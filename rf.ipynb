{
 "cells": [
  {
   "cell_type": "code",
   "execution_count": 21,
   "metadata": {},
   "outputs": [],
   "source": [
    "import pandas as pd\n",
    "import numpy as np\n",
    "from sklearn.ensemble import RandomForestClassifier\n",
    "from sklearn.model_selection import train_test_split\n",
    "from sklearn.metrics  import r2_score\n",
    "import matplotlib.pyplot as plt \n",
    "import seaborn as sns"
   ]
  },
  {
   "cell_type": "code",
   "execution_count": 23,
   "metadata": {},
   "outputs": [
    {
     "data": {
      "text/html": [
       "<div>\n",
       "<style scoped>\n",
       "    .dataframe tbody tr th:only-of-type {\n",
       "        vertical-align: middle;\n",
       "    }\n",
       "\n",
       "    .dataframe tbody tr th {\n",
       "        vertical-align: top;\n",
       "    }\n",
       "\n",
       "    .dataframe thead th {\n",
       "        text-align: right;\n",
       "    }\n",
       "</style>\n",
       "<table border=\"1\" class=\"dataframe\">\n",
       "  <thead>\n",
       "    <tr style=\"text-align: right;\">\n",
       "      <th></th>\n",
       "      <th>Продолжительность эксплуатации</th>\n",
       "      <th>Количество ремонтов</th>\n",
       "      <th>Температура окр среды</th>\n",
       "      <th>Срок эксплуатации</th>\n",
       "      <th>Внезаплные отказы</th>\n",
       "      <th>Изделия с дефектами</th>\n",
       "      <th>Замена деталий</th>\n",
       "      <th>Смена обслуживания</th>\n",
       "      <th>Влажность окр среды</th>\n",
       "      <th>Страна производитель</th>\n",
       "    </tr>\n",
       "  </thead>\n",
       "  <tbody>\n",
       "    <tr>\n",
       "      <th>0</th>\n",
       "      <td>3</td>\n",
       "      <td>0</td>\n",
       "      <td>23</td>\n",
       "      <td>30</td>\n",
       "      <td>0</td>\n",
       "      <td>1</td>\n",
       "      <td>0</td>\n",
       "      <td>0</td>\n",
       "      <td>89</td>\n",
       "      <td>3</td>\n",
       "    </tr>\n",
       "    <tr>\n",
       "      <th>33</th>\n",
       "      <td>20</td>\n",
       "      <td>3</td>\n",
       "      <td>20</td>\n",
       "      <td>16</td>\n",
       "      <td>1</td>\n",
       "      <td>0</td>\n",
       "      <td>0</td>\n",
       "      <td>0</td>\n",
       "      <td>60</td>\n",
       "      <td>2</td>\n",
       "    </tr>\n",
       "    <tr>\n",
       "      <th>72</th>\n",
       "      <td>21</td>\n",
       "      <td>7</td>\n",
       "      <td>30</td>\n",
       "      <td>35</td>\n",
       "      <td>0</td>\n",
       "      <td>0</td>\n",
       "      <td>1</td>\n",
       "      <td>0</td>\n",
       "      <td>97</td>\n",
       "      <td>3</td>\n",
       "    </tr>\n",
       "    <tr>\n",
       "      <th>6</th>\n",
       "      <td>26</td>\n",
       "      <td>19</td>\n",
       "      <td>27</td>\n",
       "      <td>35</td>\n",
       "      <td>1</td>\n",
       "      <td>0</td>\n",
       "      <td>0</td>\n",
       "      <td>0</td>\n",
       "      <td>75</td>\n",
       "      <td>3</td>\n",
       "    </tr>\n",
       "    <tr>\n",
       "      <th>93</th>\n",
       "      <td>15</td>\n",
       "      <td>10</td>\n",
       "      <td>19</td>\n",
       "      <td>21</td>\n",
       "      <td>1</td>\n",
       "      <td>1</td>\n",
       "      <td>1</td>\n",
       "      <td>1</td>\n",
       "      <td>75</td>\n",
       "      <td>2</td>\n",
       "    </tr>\n",
       "  </tbody>\n",
       "</table>\n",
       "</div>"
      ],
      "text/plain": [
       "    Продолжительность эксплуатации  Количество ремонтов  \\\n",
       "0                                3                    0   \n",
       "33                              20                    3   \n",
       "72                              21                    7   \n",
       "6                               26                   19   \n",
       "93                              15                   10   \n",
       "\n",
       "    Температура окр среды  Срок эксплуатации  Внезаплные отказы  \\\n",
       "0                      23                 30                  0   \n",
       "33                     20                 16                  1   \n",
       "72                     30                 35                  0   \n",
       "6                      27                 35                  1   \n",
       "93                     19                 21                  1   \n",
       "\n",
       "    Изделия с дефектами  Замена деталий  Смена обслуживания  \\\n",
       "0                     1               0                   0   \n",
       "33                    0               0                   0   \n",
       "72                    0               1                   0   \n",
       "6                     0               0                   0   \n",
       "93                    1               1                   1   \n",
       "\n",
       "    Влажность окр среды  Страна производитель  \n",
       "0                    89                     3  \n",
       "33                   60                     2  \n",
       "72                   97                     3  \n",
       "6                    75                     3  \n",
       "93                   75                     2  "
      ]
     },
     "execution_count": 23,
     "metadata": {},
     "output_type": "execute_result"
    }
   ],
   "source": [
    "df = pd.read_csv(\"dataset3.csv\", delimiter = ';')\n",
    "df.sample(5)#эта команда выведет пять случайных строк таблицы, таблица не отобразиться полностью"
   ]
  },
  {
   "cell_type": "code",
   "execution_count": 24,
   "metadata": {},
   "outputs": [
    {
     "name": "stdout",
     "output_type": "stream",
     "text": [
      "<class 'pandas.core.frame.DataFrame'>\n",
      "Int64Index: 100 entries, 0 to 99\n",
      "Data columns (total 10 columns):\n",
      " #   Column                          Non-Null Count  Dtype\n",
      "---  ------                          --------------  -----\n",
      " 0   Продолжительность эксплуатации  100 non-null    int64\n",
      " 1   Количество ремонтов             100 non-null    int64\n",
      " 2   Температура окр среды           100 non-null    int64\n",
      " 3   Срок эксплуатации               100 non-null    int64\n",
      " 4   Внезаплные отказы               100 non-null    int64\n",
      " 5   Изделия с дефектами             100 non-null    int64\n",
      " 6   Замена деталий                  100 non-null    int64\n",
      " 7   Смена обслуживания              100 non-null    int64\n",
      " 8   Влажность окр среды             100 non-null    int64\n",
      " 9   Страна производитель            100 non-null    int64\n",
      "dtypes: int64(10)\n",
      "memory usage: 8.6 KB\n"
     ]
    }
   ],
   "source": [
    "df.info()#общая информация о столбцах, типах и пропущенных значениях"
   ]
  },
  {
   "cell_type": "code",
   "execution_count": 25,
   "metadata": {},
   "outputs": [
    {
     "data": {
      "text/html": [
       "<div>\n",
       "<style scoped>\n",
       "    .dataframe tbody tr th:only-of-type {\n",
       "        vertical-align: middle;\n",
       "    }\n",
       "\n",
       "    .dataframe tbody tr th {\n",
       "        vertical-align: top;\n",
       "    }\n",
       "\n",
       "    .dataframe thead th {\n",
       "        text-align: right;\n",
       "    }\n",
       "</style>\n",
       "<table border=\"1\" class=\"dataframe\">\n",
       "  <thead>\n",
       "    <tr style=\"text-align: right;\">\n",
       "      <th></th>\n",
       "      <th>Продолжительность эксплуатации</th>\n",
       "      <th>Количество ремонтов</th>\n",
       "      <th>Температура окр среды</th>\n",
       "      <th>Срок эксплуатации</th>\n",
       "      <th>Внезаплные отказы</th>\n",
       "      <th>Изделия с дефектами</th>\n",
       "      <th>Замена деталий</th>\n",
       "      <th>Смена обслуживания</th>\n",
       "      <th>Влажность окр среды</th>\n",
       "      <th>Страна производитель</th>\n",
       "    </tr>\n",
       "  </thead>\n",
       "  <tbody>\n",
       "    <tr>\n",
       "      <th>count</th>\n",
       "      <td>100.000000</td>\n",
       "      <td>100.000000</td>\n",
       "      <td>100.000000</td>\n",
       "      <td>100.00000</td>\n",
       "      <td>100.000000</td>\n",
       "      <td>100.00</td>\n",
       "      <td>100.000000</td>\n",
       "      <td>100.000000</td>\n",
       "      <td>100.000000</td>\n",
       "      <td>100.000000</td>\n",
       "    </tr>\n",
       "    <tr>\n",
       "      <th>mean</th>\n",
       "      <td>16.510000</td>\n",
       "      <td>10.290000</td>\n",
       "      <td>21.560000</td>\n",
       "      <td>22.84000</td>\n",
       "      <td>0.510000</td>\n",
       "      <td>0.55</td>\n",
       "      <td>0.590000</td>\n",
       "      <td>0.470000</td>\n",
       "      <td>56.470000</td>\n",
       "      <td>2.100000</td>\n",
       "    </tr>\n",
       "    <tr>\n",
       "      <th>std</th>\n",
       "      <td>9.393201</td>\n",
       "      <td>6.268883</td>\n",
       "      <td>4.831128</td>\n",
       "      <td>7.45589</td>\n",
       "      <td>0.502418</td>\n",
       "      <td>0.50</td>\n",
       "      <td>0.494311</td>\n",
       "      <td>0.501614</td>\n",
       "      <td>24.300499</td>\n",
       "      <td>0.797724</td>\n",
       "    </tr>\n",
       "    <tr>\n",
       "      <th>min</th>\n",
       "      <td>0.000000</td>\n",
       "      <td>0.000000</td>\n",
       "      <td>14.000000</td>\n",
       "      <td>10.00000</td>\n",
       "      <td>0.000000</td>\n",
       "      <td>0.00</td>\n",
       "      <td>0.000000</td>\n",
       "      <td>0.000000</td>\n",
       "      <td>21.000000</td>\n",
       "      <td>1.000000</td>\n",
       "    </tr>\n",
       "    <tr>\n",
       "      <th>25%</th>\n",
       "      <td>8.750000</td>\n",
       "      <td>5.000000</td>\n",
       "      <td>17.000000</td>\n",
       "      <td>16.75000</td>\n",
       "      <td>0.000000</td>\n",
       "      <td>0.00</td>\n",
       "      <td>0.000000</td>\n",
       "      <td>0.000000</td>\n",
       "      <td>34.000000</td>\n",
       "      <td>1.000000</td>\n",
       "    </tr>\n",
       "    <tr>\n",
       "      <th>50%</th>\n",
       "      <td>17.500000</td>\n",
       "      <td>10.000000</td>\n",
       "      <td>21.000000</td>\n",
       "      <td>23.50000</td>\n",
       "      <td>1.000000</td>\n",
       "      <td>1.00</td>\n",
       "      <td>1.000000</td>\n",
       "      <td>0.000000</td>\n",
       "      <td>54.500000</td>\n",
       "      <td>2.000000</td>\n",
       "    </tr>\n",
       "    <tr>\n",
       "      <th>75%</th>\n",
       "      <td>25.000000</td>\n",
       "      <td>16.000000</td>\n",
       "      <td>26.000000</td>\n",
       "      <td>29.00000</td>\n",
       "      <td>1.000000</td>\n",
       "      <td>1.00</td>\n",
       "      <td>1.000000</td>\n",
       "      <td>1.000000</td>\n",
       "      <td>76.500000</td>\n",
       "      <td>3.000000</td>\n",
       "    </tr>\n",
       "    <tr>\n",
       "      <th>max</th>\n",
       "      <td>30.000000</td>\n",
       "      <td>20.000000</td>\n",
       "      <td>30.000000</td>\n",
       "      <td>35.00000</td>\n",
       "      <td>1.000000</td>\n",
       "      <td>1.00</td>\n",
       "      <td>1.000000</td>\n",
       "      <td>1.000000</td>\n",
       "      <td>100.000000</td>\n",
       "      <td>3.000000</td>\n",
       "    </tr>\n",
       "  </tbody>\n",
       "</table>\n",
       "</div>"
      ],
      "text/plain": [
       "       Продолжительность эксплуатации  Количество ремонтов  \\\n",
       "count                      100.000000           100.000000   \n",
       "mean                        16.510000            10.290000   \n",
       "std                          9.393201             6.268883   \n",
       "min                          0.000000             0.000000   \n",
       "25%                          8.750000             5.000000   \n",
       "50%                         17.500000            10.000000   \n",
       "75%                         25.000000            16.000000   \n",
       "max                         30.000000            20.000000   \n",
       "\n",
       "       Температура окр среды  Срок эксплуатации  Внезаплные отказы  \\\n",
       "count             100.000000          100.00000         100.000000   \n",
       "mean               21.560000           22.84000           0.510000   \n",
       "std                 4.831128            7.45589           0.502418   \n",
       "min                14.000000           10.00000           0.000000   \n",
       "25%                17.000000           16.75000           0.000000   \n",
       "50%                21.000000           23.50000           1.000000   \n",
       "75%                26.000000           29.00000           1.000000   \n",
       "max                30.000000           35.00000           1.000000   \n",
       "\n",
       "       Изделия с дефектами  Замена деталий  Смена обслуживания  \\\n",
       "count               100.00      100.000000          100.000000   \n",
       "mean                  0.55        0.590000            0.470000   \n",
       "std                   0.50        0.494311            0.501614   \n",
       "min                   0.00        0.000000            0.000000   \n",
       "25%                   0.00        0.000000            0.000000   \n",
       "50%                   1.00        1.000000            0.000000   \n",
       "75%                   1.00        1.000000            1.000000   \n",
       "max                   1.00        1.000000            1.000000   \n",
       "\n",
       "       Влажность окр среды  Страна производитель  \n",
       "count           100.000000            100.000000  \n",
       "mean             56.470000              2.100000  \n",
       "std              24.300499              0.797724  \n",
       "min              21.000000              1.000000  \n",
       "25%              34.000000              1.000000  \n",
       "50%              54.500000              2.000000  \n",
       "75%              76.500000              3.000000  \n",
       "max             100.000000              3.000000  "
      ]
     },
     "execution_count": 25,
     "metadata": {},
     "output_type": "execute_result"
    }
   ],
   "source": [
    "df.describe()#общие статистики"
   ]
  },
  {
   "cell_type": "code",
   "execution_count": 26,
   "metadata": {},
   "outputs": [
    {
     "data": {
      "image/png": "[encoded data removed]",
      "text/plain": [
       "<Figure size 720x288 with 1 Axes>"
      ]
     },
     "metadata": {
      "needs_background": "light"
     },
     "output_type": "display_data"
    }
   ],
   "source": [
    "df['Количество ремонтов'].hist(bins=20,figsize=(10,4));# как распределено количество ремонтов"
   ]
  },
  {
   "cell_type": "code",
   "execution_count": 27,
   "metadata": {},
   "outputs": [
    {
     "data": {
      "text/plain": [
       "49"
      ]
     },
     "execution_count": 27,
     "metadata": {},
     "output_type": "execute_result"
    }
   ],
   "source": [
    "df[df['Количество ремонтов']>10]['Продолжительность эксплуатации'].count()\n",
    "#Попробуем предсказать будет ли у модели больше 10 количеств ремонта или нет. В этмо случае у нас получается сбалансированный набор данных. Ниже выведем список столбцов и отберем те, которые будем использовать для классификатора."
   ]
  },
  {
   "cell_type": "code",
   "execution_count": 28,
   "metadata": {},
   "outputs": [
    {
     "data": {
      "text/plain": [
       "Index(['Продолжительность эксплуатации', 'Количество ремонтов',\n",
       "       'Температура окр среды', 'Срок эксплуатации', 'Внезаплные отказы',\n",
       "       'Изделия с дефектами', 'Замена деталий', 'Смена обслуживания',\n",
       "       'Влажность окр среды', 'Страна производитель'],\n",
       "      dtype='object')"
      ]
     },
     "execution_count": 28,
     "metadata": {},
     "output_type": "execute_result"
    }
   ],
   "source": [
    "df.columns# список столбцов нашего датасета"
   ]
  },
  {
   "cell_type": "code",
   "execution_count": 29,
   "metadata": {},
   "outputs": [],
   "source": [
    "col=[\n",
    "    'Продолжительность эксплуатации', 'Количество ремонтов',\n",
    "       'Температура окр среды', 'Срок эксплуатации', 'Внезаплные отказы',\n",
    "       'Изделия с дефектами', 'Замена деталий', 'Смена обслуживания',\n",
    "       'Влажность окр среды', 'Страна производитель'\n",
    "]"
   ]
  },
  {
   "cell_type": "code",
   "execution_count": 30,
   "metadata": {},
   "outputs": [],
   "source": [
    "# код ниже преобразует категорийные данные в переменные и заполняет пропуски наиболее вероятным значением\n",
    "X=pd.DataFrame()\n",
    "for i in col:\n",
    "    if df[i].dtype.name != 'object':\n",
    "        X[i]=df[i].copy()\n",
    "        X.loc[X[i].isna(),i]=X[i].median()\n",
    "    else:\n",
    "        X[i]=pd.factorize(df[i])[0]"
   ]
  },
  {
   "cell_type": "code",
   "execution_count": 31,
   "metadata": {},
   "outputs": [
    {
     "data": {
      "text/html": [
       "<div>\n",
       "<style scoped>\n",
       "    .dataframe tbody tr th:only-of-type {\n",
       "        vertical-align: middle;\n",
       "    }\n",
       "\n",
       "    .dataframe tbody tr th {\n",
       "        vertical-align: top;\n",
       "    }\n",
       "\n",
       "    .dataframe thead th {\n",
       "        text-align: right;\n",
       "    }\n",
       "</style>\n",
       "<table border=\"1\" class=\"dataframe\">\n",
       "  <thead>\n",
       "    <tr style=\"text-align: right;\">\n",
       "      <th></th>\n",
       "      <th>Продолжительность эксплуатации</th>\n",
       "      <th>Количество ремонтов</th>\n",
       "      <th>Температура окр среды</th>\n",
       "      <th>Срок эксплуатации</th>\n",
       "      <th>Внезаплные отказы</th>\n",
       "      <th>Изделия с дефектами</th>\n",
       "      <th>Замена деталий</th>\n",
       "      <th>Смена обслуживания</th>\n",
       "      <th>Влажность окр среды</th>\n",
       "      <th>Страна производитель</th>\n",
       "    </tr>\n",
       "  </thead>\n",
       "  <tbody>\n",
       "    <tr>\n",
       "      <th>64</th>\n",
       "      <td>23.0</td>\n",
       "      <td>20.0</td>\n",
       "      <td>23.0</td>\n",
       "      <td>18.0</td>\n",
       "      <td>0.0</td>\n",
       "      <td>1.0</td>\n",
       "      <td>0.0</td>\n",
       "      <td>1.0</td>\n",
       "      <td>91.0</td>\n",
       "      <td>1.0</td>\n",
       "    </tr>\n",
       "    <tr>\n",
       "      <th>7</th>\n",
       "      <td>24.0</td>\n",
       "      <td>8.0</td>\n",
       "      <td>20.0</td>\n",
       "      <td>32.0</td>\n",
       "      <td>0.0</td>\n",
       "      <td>0.0</td>\n",
       "      <td>0.0</td>\n",
       "      <td>0.0</td>\n",
       "      <td>79.0</td>\n",
       "      <td>2.0</td>\n",
       "    </tr>\n",
       "    <tr>\n",
       "      <th>21</th>\n",
       "      <td>16.0</td>\n",
       "      <td>15.0</td>\n",
       "      <td>14.0</td>\n",
       "      <td>20.0</td>\n",
       "      <td>1.0</td>\n",
       "      <td>1.0</td>\n",
       "      <td>1.0</td>\n",
       "      <td>0.0</td>\n",
       "      <td>29.0</td>\n",
       "      <td>3.0</td>\n",
       "    </tr>\n",
       "    <tr>\n",
       "      <th>36</th>\n",
       "      <td>1.0</td>\n",
       "      <td>5.0</td>\n",
       "      <td>28.0</td>\n",
       "      <td>24.0</td>\n",
       "      <td>1.0</td>\n",
       "      <td>1.0</td>\n",
       "      <td>1.0</td>\n",
       "      <td>0.0</td>\n",
       "      <td>60.0</td>\n",
       "      <td>3.0</td>\n",
       "    </tr>\n",
       "    <tr>\n",
       "      <th>51</th>\n",
       "      <td>27.0</td>\n",
       "      <td>19.0</td>\n",
       "      <td>29.0</td>\n",
       "      <td>25.0</td>\n",
       "      <td>0.0</td>\n",
       "      <td>0.0</td>\n",
       "      <td>1.0</td>\n",
       "      <td>0.0</td>\n",
       "      <td>81.0</td>\n",
       "      <td>3.0</td>\n",
       "    </tr>\n",
       "    <tr>\n",
       "      <th>69</th>\n",
       "      <td>23.0</td>\n",
       "      <td>1.0</td>\n",
       "      <td>28.0</td>\n",
       "      <td>17.0</td>\n",
       "      <td>1.0</td>\n",
       "      <td>1.0</td>\n",
       "      <td>0.0</td>\n",
       "      <td>1.0</td>\n",
       "      <td>78.0</td>\n",
       "      <td>1.0</td>\n",
       "    </tr>\n",
       "    <tr>\n",
       "      <th>62</th>\n",
       "      <td>1.0</td>\n",
       "      <td>3.0</td>\n",
       "      <td>17.0</td>\n",
       "      <td>14.0</td>\n",
       "      <td>1.0</td>\n",
       "      <td>1.0</td>\n",
       "      <td>0.0</td>\n",
       "      <td>1.0</td>\n",
       "      <td>40.0</td>\n",
       "      <td>1.0</td>\n",
       "    </tr>\n",
       "    <tr>\n",
       "      <th>66</th>\n",
       "      <td>16.0</td>\n",
       "      <td>12.0</td>\n",
       "      <td>14.0</td>\n",
       "      <td>18.0</td>\n",
       "      <td>0.0</td>\n",
       "      <td>1.0</td>\n",
       "      <td>1.0</td>\n",
       "      <td>0.0</td>\n",
       "      <td>95.0</td>\n",
       "      <td>1.0</td>\n",
       "    </tr>\n",
       "    <tr>\n",
       "      <th>31</th>\n",
       "      <td>21.0</td>\n",
       "      <td>20.0</td>\n",
       "      <td>23.0</td>\n",
       "      <td>32.0</td>\n",
       "      <td>0.0</td>\n",
       "      <td>0.0</td>\n",
       "      <td>1.0</td>\n",
       "      <td>0.0</td>\n",
       "      <td>50.0</td>\n",
       "      <td>2.0</td>\n",
       "    </tr>\n",
       "    <tr>\n",
       "      <th>27</th>\n",
       "      <td>11.0</td>\n",
       "      <td>14.0</td>\n",
       "      <td>17.0</td>\n",
       "      <td>35.0</td>\n",
       "      <td>0.0</td>\n",
       "      <td>1.0</td>\n",
       "      <td>1.0</td>\n",
       "      <td>1.0</td>\n",
       "      <td>26.0</td>\n",
       "      <td>3.0</td>\n",
       "    </tr>\n",
       "  </tbody>\n",
       "</table>\n",
       "</div>"
      ],
      "text/plain": [
       "    Продолжительность эксплуатации  Количество ремонтов  \\\n",
       "64                            23.0                 20.0   \n",
       "7                             24.0                  8.0   \n",
       "21                            16.0                 15.0   \n",
       "36                             1.0                  5.0   \n",
       "51                            27.0                 19.0   \n",
       "69                            23.0                  1.0   \n",
       "62                             1.0                  3.0   \n",
       "66                            16.0                 12.0   \n",
       "31                            21.0                 20.0   \n",
       "27                            11.0                 14.0   \n",
       "\n",
       "    Температура окр среды  Срок эксплуатации  Внезаплные отказы  \\\n",
       "64                   23.0               18.0                0.0   \n",
       "7                    20.0               32.0                0.0   \n",
       "21                   14.0               20.0                1.0   \n",
       "36                   28.0               24.0                1.0   \n",
       "51                   29.0               25.0                0.0   \n",
       "69                   28.0               17.0                1.0   \n",
       "62                   17.0               14.0                1.0   \n",
       "66                   14.0               18.0                0.0   \n",
       "31                   23.0               32.0                0.0   \n",
       "27                   17.0               35.0                0.0   \n",
       "\n",
       "    Изделия с дефектами  Замена деталий  Смена обслуживания  \\\n",
       "64                  1.0             0.0                 1.0   \n",
       "7                   0.0             0.0                 0.0   \n",
       "21                  1.0             1.0                 0.0   \n",
       "36                  1.0             1.0                 0.0   \n",
       "51                  0.0             1.0                 0.0   \n",
       "69                  1.0             0.0                 1.0   \n",
       "62                  1.0             0.0                 1.0   \n",
       "66                  1.0             1.0                 0.0   \n",
       "31                  0.0             1.0                 0.0   \n",
       "27                  1.0             1.0                 1.0   \n",
       "\n",
       "    Влажность окр среды  Страна производитель  \n",
       "64                 91.0                   1.0  \n",
       "7                  79.0                   2.0  \n",
       "21                 29.0                   3.0  \n",
       "36                 60.0                   3.0  \n",
       "51                 81.0                   3.0  \n",
       "69                 78.0                   1.0  \n",
       "62                 40.0                   1.0  \n",
       "66                 95.0                   1.0  \n",
       "31                 50.0                   2.0  \n",
       "27                 26.0                   3.0  "
      ]
     },
     "execution_count": 31,
     "metadata": {},
     "output_type": "execute_result"
    }
   ],
   "source": [
    "X.sample(10)# результат, подготовленные данные"
   ]
  },
  {
   "cell_type": "code",
   "execution_count": 32,
   "metadata": {},
   "outputs": [],
   "source": [
    "# Y будет равен нулю если отзывов 10 и меньше, и единице если больше 10\n",
    "Y=df['Количество ремонтов'].apply(lambda x : 1 if x>10 else 0).values"
   ]
  },
  {
   "cell_type": "code",
   "execution_count": 33,
   "metadata": {},
   "outputs": [],
   "source": [
    "#разделим набор на тренировочный и тестовый\n",
    "X_train,X_test,y_train,y_test=train_test_split(X,Y,test_size=0.2,random_state=42)"
   ]
  },
  {
   "cell_type": "code",
   "execution_count": 34,
   "metadata": {},
   "outputs": [
    {
     "data": {
      "text/plain": [
       "RandomForestClassifier()"
      ]
     },
     "execution_count": 34,
     "metadata": {},
     "output_type": "execute_result"
    }
   ],
   "source": [
    "# создаем и тренируем модель, отдельно можно провести подбор параметров для повышения точности\n",
    "model=RandomForestClassifier(n_estimators=100)\n",
    "model.fit(X_train,y_train)"
   ]
  },
  {
   "cell_type": "code",
   "execution_count": 35,
   "metadata": {},
   "outputs": [
    {
     "name": "stdout",
     "output_type": "stream",
     "text": [
      "Значимость признака: \n"
     ]
    },
    {
     "data": {
      "text/plain": [
       "[[0.7773, 'Количество ремонтов'],\n",
       " [0.049, 'Срок эксплуатации'],\n",
       " [0.0477, 'Влажность окр среды'],\n",
       " [0.0416, 'Температура окр среды'],\n",
       " [0.0382, 'Продолжительность эксплуатации'],\n",
       " [0.0143, 'Смена обслуживания'],\n",
       " [0.0113, 'Внезаплные отказы'],\n",
       " [0.0103, 'Страна производитель'],\n",
       " [0.0065, 'Замена деталий'],\n",
       " [0.0038, 'Изделия с дефектами']]"
      ]
     },
     "execution_count": 35,
     "metadata": {},
     "output_type": "execute_result"
    }
   ],
   "source": [
    "importances=model.feature_importances_\n",
    "indices=np.argsort(importances)[::-1]\n",
    "\n",
    "ar_f=[]\n",
    "for f,idx in enumerate(indices):\n",
    "    ar_f.append([round(importances[idx],4),col[idx]])\n",
    "print('Значимость признака: ')\n",
    "ar_f.sort(reverse=True)\n",
    "ar_f"
   ]
  },
  {
   "cell_type": "code",
   "execution_count": 36,
   "metadata": {},
   "outputs": [
    {
     "data": {
      "text/plain": [
       "(-1.0, 10.0)"
      ]
     },
     "execution_count": 36,
     "metadata": {},
     "output_type": "execute_result"
    },
    {
     "data": {
      "image/png": "[encoded data removed]",
      "text/plain": [
       "<Figure size 576x576 with 1 Axes>"
      ]
     },
     "metadata": {
      "needs_background": "light"
     },
     "output_type": "display_data"
    }
   ],
   "source": [
    "#столбчатая диаграмма\n",
    "d_first=len(col)\n",
    "plt.figure(figsize=(8,8))\n",
    "plt.title('Значимость признака')\n",
    "plt.bar(range(d_first),importances[indices[:d_first]],align='center')\n",
    "plt.xticks(range(d_first),np.array(col)[indices[:d_first]],rotation=90)\n",
    "plt.xlim([-1,d_first])"
   ]
  },
  {
   "cell_type": "code",
   "execution_count": 37,
   "metadata": {},
   "outputs": [
    {
     "data": {
      "text/plain": [
       "array([1, 0, 1, 0, 0, 0, 0, 1, 1, 0, 1, 0, 0, 0, 1, 1, 0, 0, 0, 1],\n",
       "      dtype=int64)"
      ]
     },
     "execution_count": 37,
     "metadata": {},
     "output_type": "execute_result"
    }
   ],
   "source": [
    "model.predict(X_test)\n",
    "# как выглядит результат предсказания для тестовой выборки"
   ]
  },
  {
   "cell_type": "code",
   "execution_count": 38,
   "metadata": {},
   "outputs": [
    {
     "data": {
      "text/plain": [
       "array([1, 0, 1, 0, 0, 0, 0, 1, 1, 0, 1, 0, 0, 0, 1, 1, 0, 0, 0, 1],\n",
       "      dtype=int64)"
      ]
     },
     "execution_count": 38,
     "metadata": {},
     "output_type": "execute_result"
    }
   ],
   "source": [
    "y_test\n",
    "# как выглядядт результаты тестового набора"
   ]
  },
  {
   "cell_type": "code",
   "execution_count": 39,
   "metadata": {},
   "outputs": [
    {
     "data": {
      "text/plain": [
       "1.0"
      ]
     },
     "execution_count": 39,
     "metadata": {},
     "output_type": "execute_result"
    }
   ],
   "source": [
    "# метрика r2\n",
    "r2_score(model.predict(X_test),y_test)"
   ]
  },
  {
   "cell_type": "code",
   "execution_count": 40,
   "metadata": {},
   "outputs": [
    {
     "name": "stdout",
     "output_type": "stream",
     "text": [
      "Accuracy: 1.0\n"
     ]
    }
   ],
   "source": [
    "# метрика, насколько точно мы предсказываем правильные значения как для 0, так и 1\n",
    "from sklearn import metrics\n",
    "print('Accuracy:',metrics.accuracy_score(y_test,model.predict(X_test)))"
   ]
  },
  {
   "cell_type": "code",
   "execution_count": 41,
   "metadata": {},
   "outputs": [
    {
     "data": {
      "text/plain": [
       "array([[12,  0],\n",
       "       [ 0,  8]], dtype=int64)"
      ]
     },
     "execution_count": 41,
     "metadata": {},
     "output_type": "execute_result"
    }
   ],
   "source": [
    "# матрица количества правильно и ошибочно угаданных классов\n",
    "from sklearn.metrics import confusion_matrix\n",
    "confusion_matrix(y_test,model.predict(X_test))"
   ]
  },
  {
   "cell_type": "code",
   "execution_count": null,
   "metadata": {},
   "outputs": [],
   "source": []
  },
  {
   "cell_type": "code",
   "execution_count": null,
   "metadata": {},
   "outputs": [],
   "source": []
  },
  {
   "cell_type": "code",
   "execution_count": null,
   "metadata": {},
   "outputs": [],
   "source": []
  },
  {
   "cell_type": "code",
   "execution_count": null,
   "metadata": {},
   "outputs": [],
   "source": []
  }
 ],
 "metadata": {
  "kernelspec": {
   "display_name": "Python 3",
   "language": "python",
   "name": "python3"
  },
  "language_info": {
   "codemirror_mode": {
    "name": "ipython",
    "version": 3
   },
   "file_extension": ".py",
   "mimetype": "text/x-python",
   "name": "python",
   "nbconvert_exporter": "python",
   "pygments_lexer": "ipython3",
   "version": "3.7.0"
  }
 },
 "nbformat": 4,
 "nbformat_minor": 4
}
