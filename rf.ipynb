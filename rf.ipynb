{
 "cells": [
  {
   "cell_type": "code",
   "execution_count": 3,
   "metadata": {},
   "outputs": [
    {
     "ename": "ModuleNotFoundError",
     "evalue": "No module named 'sklearn'",
     "output_type": "error",
     "traceback": [
      "\u001b[1;31m---------------------------------------------------------------------------\u001b[0m",
      "\u001b[1;31mModuleNotFoundError\u001b[0m                       Traceback (most recent call last)",
      "\u001b[1;32m<ipython-input-3-0adf73d0b881>\u001b[0m in \u001b[0;36m<module>\u001b[1;34m\u001b[0m\n\u001b[0;32m      1\u001b[0m \u001b[1;32mimport\u001b[0m \u001b[0mpandas\u001b[0m \u001b[1;32mas\u001b[0m \u001b[0mpd\u001b[0m\u001b[1;33m\u001b[0m\u001b[1;33m\u001b[0m\u001b[0m\n\u001b[0;32m      2\u001b[0m \u001b[1;32mimport\u001b[0m \u001b[0mnumpy\u001b[0m \u001b[1;32mas\u001b[0m \u001b[0mnp\u001b[0m\u001b[1;33m\u001b[0m\u001b[1;33m\u001b[0m\u001b[0m\n\u001b[1;32m----> 3\u001b[1;33m \u001b[1;32mfrom\u001b[0m \u001b[0msklearn\u001b[0m\u001b[1;33m.\u001b[0m\u001b[0mensemble\u001b[0m \u001b[1;32mimport\u001b[0m \u001b[0mRandomForestClassifier\u001b[0m\u001b[1;33m\u001b[0m\u001b[1;33m\u001b[0m\u001b[0m\n\u001b[0m\u001b[0;32m      4\u001b[0m \u001b[1;32mfrom\u001b[0m \u001b[0msklearn\u001b[0m\u001b[1;33m.\u001b[0m\u001b[0mmodel_selection\u001b[0m \u001b[1;32mimport\u001b[0m \u001b[0mtrain_test_split\u001b[0m\u001b[1;33m\u001b[0m\u001b[1;33m\u001b[0m\u001b[0m\n\u001b[0;32m      5\u001b[0m \u001b[1;32mfrom\u001b[0m \u001b[0msklearn\u001b[0m\u001b[1;33m.\u001b[0m\u001b[0mmetrics\u001b[0m  \u001b[1;32mimport\u001b[0m \u001b[0mr2_score\u001b[0m\u001b[1;33m\u001b[0m\u001b[1;33m\u001b[0m\u001b[0m\n",
      "\u001b[1;31mModuleNotFoundError\u001b[0m: No module named 'sklearn'"
     ]
    }
   ],
   "source": [
    "import pandas as pd\n",
    "import numpy as np\n",
    "from sklearn.ensemble import RandomForestClassifier\n",
    "from sklearn.model_selection import train_test_split\n",
    "from sklearn.metrics  import r2_score\n",
    "import matplotlib.pyplot as plt \n",
    "import seaborn as sns"
   ]
  },
  {
   "cell_type": "code",
   "execution_count": null,
   "metadata": {},
   "outputs": [],
   "source": [
    "df = pd.read_csv(\"dataset3.csv\", delimiter = ';')\n",
    "df.sample(5)#эта команда выведет пять случайных строк таблицы, таблица не отобразиться полностью"
   ]
  },
  {
   "cell_type": "code",
   "execution_count": null,
   "metadata": {},
   "outputs": [],
   "source": [
    "df.info()#общая информация о столбцах, типах и пропущенных значениях"
   ]
  },
  {
   "cell_type": "code",
   "execution_count": 9,
   "metadata": {},
   "outputs": [
    {
     "data": {
      "text/html": [
       "<div>\n",
       "<style scoped>\n",
       "    .dataframe tbody tr th:only-of-type {\n",
       "        vertical-align: middle;\n",
       "    }\n",
       "\n",
       "    .dataframe tbody tr th {\n",
       "        vertical-align: top;\n",
       "    }\n",
       "\n",
       "    .dataframe thead th {\n",
       "        text-align: right;\n",
       "    }\n",
       "</style>\n",
       "<table border=\"1\" class=\"dataframe\">\n",
       "  <thead>\n",
       "    <tr style=\"text-align: right;\">\n",
       "      <th></th>\n",
       "      <th>Продолжительность эксплуатации</th>\n",
       "      <th>Количество ремонтов</th>\n",
       "      <th>Температура окр среды</th>\n",
       "      <th>Срок эксплуатации</th>\n",
       "      <th>Внезаплные отказы</th>\n",
       "      <th>Изделия с дефектами</th>\n",
       "      <th>Замена деталий</th>\n",
       "      <th>Смена обслуживания</th>\n",
       "      <th>Влажность окр среды</th>\n",
       "      <th>Страна производитель</th>\n",
       "    </tr>\n",
       "  </thead>\n",
       "  <tbody>\n",
       "    <tr>\n",
       "      <th>count</th>\n",
       "      <td>50.00000</td>\n",
       "      <td>50.000000</td>\n",
       "      <td>50.000000</td>\n",
       "      <td>50.000000</td>\n",
       "      <td>50.000000</td>\n",
       "      <td>50.000000</td>\n",
       "      <td>50.000000</td>\n",
       "      <td>50.000000</td>\n",
       "      <td>50.000000</td>\n",
       "      <td>50.000000</td>\n",
       "    </tr>\n",
       "    <tr>\n",
       "      <th>mean</th>\n",
       "      <td>14.00000</td>\n",
       "      <td>8.420000</td>\n",
       "      <td>22.020000</td>\n",
       "      <td>23.980000</td>\n",
       "      <td>0.480000</td>\n",
       "      <td>0.560000</td>\n",
       "      <td>0.460000</td>\n",
       "      <td>0.540000</td>\n",
       "      <td>58.280000</td>\n",
       "      <td>1.960000</td>\n",
       "    </tr>\n",
       "    <tr>\n",
       "      <th>std</th>\n",
       "      <td>9.46314</td>\n",
       "      <td>6.556162</td>\n",
       "      <td>5.231342</td>\n",
       "      <td>8.125269</td>\n",
       "      <td>0.504672</td>\n",
       "      <td>0.501427</td>\n",
       "      <td>0.503457</td>\n",
       "      <td>0.503457</td>\n",
       "      <td>23.267776</td>\n",
       "      <td>0.832013</td>\n",
       "    </tr>\n",
       "    <tr>\n",
       "      <th>min</th>\n",
       "      <td>1.00000</td>\n",
       "      <td>0.000000</td>\n",
       "      <td>14.000000</td>\n",
       "      <td>11.000000</td>\n",
       "      <td>0.000000</td>\n",
       "      <td>0.000000</td>\n",
       "      <td>0.000000</td>\n",
       "      <td>0.000000</td>\n",
       "      <td>20.000000</td>\n",
       "      <td>1.000000</td>\n",
       "    </tr>\n",
       "    <tr>\n",
       "      <th>25%</th>\n",
       "      <td>5.00000</td>\n",
       "      <td>2.250000</td>\n",
       "      <td>17.000000</td>\n",
       "      <td>17.250000</td>\n",
       "      <td>0.000000</td>\n",
       "      <td>0.000000</td>\n",
       "      <td>0.000000</td>\n",
       "      <td>0.000000</td>\n",
       "      <td>38.250000</td>\n",
       "      <td>1.000000</td>\n",
       "    </tr>\n",
       "    <tr>\n",
       "      <th>50%</th>\n",
       "      <td>13.00000</td>\n",
       "      <td>7.000000</td>\n",
       "      <td>22.000000</td>\n",
       "      <td>27.000000</td>\n",
       "      <td>0.000000</td>\n",
       "      <td>1.000000</td>\n",
       "      <td>0.000000</td>\n",
       "      <td>1.000000</td>\n",
       "      <td>65.000000</td>\n",
       "      <td>2.000000</td>\n",
       "    </tr>\n",
       "    <tr>\n",
       "      <th>75%</th>\n",
       "      <td>22.50000</td>\n",
       "      <td>13.500000</td>\n",
       "      <td>26.750000</td>\n",
       "      <td>30.000000</td>\n",
       "      <td>1.000000</td>\n",
       "      <td>1.000000</td>\n",
       "      <td>1.000000</td>\n",
       "      <td>1.000000</td>\n",
       "      <td>76.750000</td>\n",
       "      <td>3.000000</td>\n",
       "    </tr>\n",
       "    <tr>\n",
       "      <th>max</th>\n",
       "      <td>30.00000</td>\n",
       "      <td>20.000000</td>\n",
       "      <td>30.000000</td>\n",
       "      <td>35.000000</td>\n",
       "      <td>1.000000</td>\n",
       "      <td>1.000000</td>\n",
       "      <td>1.000000</td>\n",
       "      <td>1.000000</td>\n",
       "      <td>96.000000</td>\n",
       "      <td>3.000000</td>\n",
       "    </tr>\n",
       "  </tbody>\n",
       "</table>\n",
       "</div>"
      ],
      "text/plain": [
       "       Продолжительность эксплуатации  Количество ремонтов  \\\n",
       "count                        50.00000            50.000000   \n",
       "mean                         14.00000             8.420000   \n",
       "std                           9.46314             6.556162   \n",
       "min                           1.00000             0.000000   \n",
       "25%                           5.00000             2.250000   \n",
       "50%                          13.00000             7.000000   \n",
       "75%                          22.50000            13.500000   \n",
       "max                          30.00000            20.000000   \n",
       "\n",
       "       Температура окр среды  Срок эксплуатации  Внезаплные отказы  \\\n",
       "count              50.000000          50.000000          50.000000   \n",
       "mean               22.020000          23.980000           0.480000   \n",
       "std                 5.231342           8.125269           0.504672   \n",
       "min                14.000000          11.000000           0.000000   \n",
       "25%                17.000000          17.250000           0.000000   \n",
       "50%                22.000000          27.000000           0.000000   \n",
       "75%                26.750000          30.000000           1.000000   \n",
       "max                30.000000          35.000000           1.000000   \n",
       "\n",
       "       Изделия с дефектами  Замена деталий  Смена обслуживания  \\\n",
       "count            50.000000       50.000000           50.000000   \n",
       "mean              0.560000        0.460000            0.540000   \n",
       "std               0.501427        0.503457            0.503457   \n",
       "min               0.000000        0.000000            0.000000   \n",
       "25%               0.000000        0.000000            0.000000   \n",
       "50%               1.000000        0.000000            1.000000   \n",
       "75%               1.000000        1.000000            1.000000   \n",
       "max               1.000000        1.000000            1.000000   \n",
       "\n",
       "       Влажность окр среды  Страна производитель  \n",
       "count            50.000000             50.000000  \n",
       "mean             58.280000              1.960000  \n",
       "std              23.267776              0.832013  \n",
       "min              20.000000              1.000000  \n",
       "25%              38.250000              1.000000  \n",
       "50%              65.000000              2.000000  \n",
       "75%              76.750000              3.000000  \n",
       "max              96.000000              3.000000  "
      ]
     },
     "execution_count": 9,
     "metadata": {},
     "output_type": "execute_result"
    }
   ],
   "source": [
    "df.describe()#общие статистики"
   ]
  },
  {
   "cell_type": "code",
   "execution_count": 43,
   "metadata": {},
   "outputs": [
    {
     "data": {
      "image/png": "[encoded data removed]",
      "text/plain": [
       "<Figure size 720x288 with 1 Axes>"
      ]
     },
     "metadata": {
      "needs_background": "light"
     },
     "output_type": "display_data"
    }
   ],
   "source": [
    "df['Количество ремонтов'].hist(bins=20,figsize=(10,4)); # как распределено количество ремонтов"
   ]
  },
  {
   "cell_type": "code",
   "execution_count": 2,
   "metadata": {},
   "outputs": [
    {
     "ename": "NameError",
     "evalue": "name 'df' is not defined",
     "output_type": "error",
     "traceback": [
      "\u001b[1;31m---------------------------------------------------------------------------\u001b[0m",
      "\u001b[1;31mNameError\u001b[0m                                 Traceback (most recent call last)",
      "\u001b[1;32m<ipython-input-2-b458fe70782b>\u001b[0m in \u001b[0;36m<module>\u001b[1;34m\u001b[0m\n\u001b[1;32m----> 1\u001b[1;33m \u001b[0mdf\u001b[0m\u001b[1;33m[\u001b[0m\u001b[0mdf\u001b[0m\u001b[1;33m[\u001b[0m\u001b[1;34m'Количество ремонтов'\u001b[0m\u001b[1;33m]\u001b[0m\u001b[1;33m>\u001b[0m\u001b[1;36m10\u001b[0m\u001b[1;33m]\u001b[0m\u001b[1;33m[\u001b[0m\u001b[1;34m'Продолжительность эксплуатации'\u001b[0m\u001b[1;33m]\u001b[0m\u001b[1;33m.\u001b[0m\u001b[0mcount\u001b[0m\u001b[1;33m(\u001b[0m\u001b[1;33m)\u001b[0m\u001b[1;33m\u001b[0m\u001b[1;33m\u001b[0m\u001b[0m\n\u001b[0m\u001b[0;32m      2\u001b[0m \u001b[1;31m#Попробуем предсказать будет ли у модели больше 10 количеств ремонта или нет. В этмо случае у нас получается сбалансированный набор данных. Ниже выведем список столбцов и отберем те, которые будем использовать для классификатора.\u001b[0m\u001b[1;33m\u001b[0m\u001b[1;33m\u001b[0m\u001b[1;33m\u001b[0m\u001b[0m\n",
      "\u001b[1;31mNameError\u001b[0m: name 'df' is not defined"
     ]
    }
   ],
   "source": [
    "df[df['Количество ремонтов']>10]['Продолжительность эксплуатации'].count()\n",
    "#Попробуем предсказать будет ли у модели больше 10 количеств ремонта или нет. В этмо случае у нас получается сбалансированный набор данных. Ниже выведем список столбцов и отберем те, которые будем использовать для классификатора."
   ]
  },
  {
   "cell_type": "code",
   "execution_count": 66,
   "metadata": {},
   "outputs": [
    {
     "data": {
      "text/plain": [
       "Index(['Продолжительность эксплуатации', 'Количество ремонтов',\n",
       "       'Температура окр среды', 'Срок эксплуатации', 'Внезаплные отказы',\n",
       "       'Изделия с дефектами', 'Замена деталий', 'Смена обслуживания',\n",
       "       'Влажность окр среды', 'Страна производитель'],\n",
       "      dtype='object')"
      ]
     },
     "execution_count": 66,
     "metadata": {},
     "output_type": "execute_result"
    }
   ],
   "source": [
    "df.columns # список столбцов нашего датасета"
   ]
  },
  {
   "cell_type": "code",
   "execution_count": 67,
   "metadata": {},
   "outputs": [],
   "source": [
    "col=[\n",
    "    'Продолжительность эксплуатации', 'Количество ремонтов',\n",
    "       'Температура окр среды', 'Срок эксплуатации', 'Внезаплные отказы',\n",
    "       'Изделия с дефектами', 'Замена деталий', 'Смена обслуживания',\n",
    "       'Влажность окр среды', 'Страна производитель'\n",
    "]"
   ]
  },
  {
   "cell_type": "code",
   "execution_count": 68,
   "metadata": {},
   "outputs": [],
   "source": [
    "# код ниже преобразует категорийные данные в переменные и заполняет пропуски наиболее вероятным значением\n",
    "X=pd.DataFrame()\n",
    "for i in col:\n",
    "    if df[i].dtype.name != 'object':\n",
    "        X[i]=df[i].copy()\n",
    "        X.loc[X[i].isna(),i]=X[i].median()\n",
    "    else:\n",
    "        X[i]=pd.factorize(df[i])[0]"
   ]
  },
  {
   "cell_type": "code",
   "execution_count": 69,
   "metadata": {},
   "outputs": [
    {
     "data": {
      "text/html": [
       "<div>\n",
       "<style scoped>\n",
       "    .dataframe tbody tr th:only-of-type {\n",
       "        vertical-align: middle;\n",
       "    }\n",
       "\n",
       "    .dataframe tbody tr th {\n",
       "        vertical-align: top;\n",
       "    }\n",
       "\n",
       "    .dataframe thead th {\n",
       "        text-align: right;\n",
       "    }\n",
       "</style>\n",
       "<table border=\"1\" class=\"dataframe\">\n",
       "  <thead>\n",
       "    <tr style=\"text-align: right;\">\n",
       "      <th></th>\n",
       "      <th>Продолжительность эксплуатации</th>\n",
       "      <th>Количество ремонтов</th>\n",
       "      <th>Температура окр среды</th>\n",
       "      <th>Срок эксплуатации</th>\n",
       "      <th>Внезаплные отказы</th>\n",
       "      <th>Изделия с дефектами</th>\n",
       "      <th>Замена деталий</th>\n",
       "      <th>Смена обслуживания</th>\n",
       "      <th>Влажность окр среды</th>\n",
       "      <th>Страна производитель</th>\n",
       "    </tr>\n",
       "  </thead>\n",
       "  <tbody>\n",
       "    <tr>\n",
       "      <th>4</th>\n",
       "      <td>2.0</td>\n",
       "      <td>5.0</td>\n",
       "      <td>27.0</td>\n",
       "      <td>24.0</td>\n",
       "      <td>0.0</td>\n",
       "      <td>1.0</td>\n",
       "      <td>0.0</td>\n",
       "      <td>1.0</td>\n",
       "      <td>65.0</td>\n",
       "      <td>1.0</td>\n",
       "    </tr>\n",
       "    <tr>\n",
       "      <th>34</th>\n",
       "      <td>17.0</td>\n",
       "      <td>20.0</td>\n",
       "      <td>23.0</td>\n",
       "      <td>29.0</td>\n",
       "      <td>1.0</td>\n",
       "      <td>0.0</td>\n",
       "      <td>0.0</td>\n",
       "      <td>1.0</td>\n",
       "      <td>38.0</td>\n",
       "      <td>3.0</td>\n",
       "    </tr>\n",
       "    <tr>\n",
       "      <th>48</th>\n",
       "      <td>5.0</td>\n",
       "      <td>6.0</td>\n",
       "      <td>21.0</td>\n",
       "      <td>33.0</td>\n",
       "      <td>0.0</td>\n",
       "      <td>1.0</td>\n",
       "      <td>0.0</td>\n",
       "      <td>0.0</td>\n",
       "      <td>84.0</td>\n",
       "      <td>2.0</td>\n",
       "    </tr>\n",
       "    <tr>\n",
       "      <th>41</th>\n",
       "      <td>4.0</td>\n",
       "      <td>9.0</td>\n",
       "      <td>25.0</td>\n",
       "      <td>19.0</td>\n",
       "      <td>0.0</td>\n",
       "      <td>0.0</td>\n",
       "      <td>1.0</td>\n",
       "      <td>1.0</td>\n",
       "      <td>24.0</td>\n",
       "      <td>3.0</td>\n",
       "    </tr>\n",
       "    <tr>\n",
       "      <th>0</th>\n",
       "      <td>9.0</td>\n",
       "      <td>0.0</td>\n",
       "      <td>18.0</td>\n",
       "      <td>34.0</td>\n",
       "      <td>0.0</td>\n",
       "      <td>1.0</td>\n",
       "      <td>1.0</td>\n",
       "      <td>0.0</td>\n",
       "      <td>87.0</td>\n",
       "      <td>1.0</td>\n",
       "    </tr>\n",
       "    <tr>\n",
       "      <th>10</th>\n",
       "      <td>9.0</td>\n",
       "      <td>0.0</td>\n",
       "      <td>16.0</td>\n",
       "      <td>35.0</td>\n",
       "      <td>0.0</td>\n",
       "      <td>1.0</td>\n",
       "      <td>1.0</td>\n",
       "      <td>0.0</td>\n",
       "      <td>41.0</td>\n",
       "      <td>1.0</td>\n",
       "    </tr>\n",
       "    <tr>\n",
       "      <th>46</th>\n",
       "      <td>17.0</td>\n",
       "      <td>16.0</td>\n",
       "      <td>24.0</td>\n",
       "      <td>27.0</td>\n",
       "      <td>0.0</td>\n",
       "      <td>0.0</td>\n",
       "      <td>0.0</td>\n",
       "      <td>0.0</td>\n",
       "      <td>20.0</td>\n",
       "      <td>1.0</td>\n",
       "    </tr>\n",
       "    <tr>\n",
       "      <th>36</th>\n",
       "      <td>2.0</td>\n",
       "      <td>2.0</td>\n",
       "      <td>23.0</td>\n",
       "      <td>32.0</td>\n",
       "      <td>1.0</td>\n",
       "      <td>0.0</td>\n",
       "      <td>1.0</td>\n",
       "      <td>1.0</td>\n",
       "      <td>84.0</td>\n",
       "      <td>2.0</td>\n",
       "    </tr>\n",
       "    <tr>\n",
       "      <th>33</th>\n",
       "      <td>5.0</td>\n",
       "      <td>9.0</td>\n",
       "      <td>26.0</td>\n",
       "      <td>30.0</td>\n",
       "      <td>1.0</td>\n",
       "      <td>1.0</td>\n",
       "      <td>1.0</td>\n",
       "      <td>1.0</td>\n",
       "      <td>58.0</td>\n",
       "      <td>3.0</td>\n",
       "    </tr>\n",
       "    <tr>\n",
       "      <th>19</th>\n",
       "      <td>14.0</td>\n",
       "      <td>15.0</td>\n",
       "      <td>18.0</td>\n",
       "      <td>14.0</td>\n",
       "      <td>1.0</td>\n",
       "      <td>1.0</td>\n",
       "      <td>0.0</td>\n",
       "      <td>1.0</td>\n",
       "      <td>58.0</td>\n",
       "      <td>2.0</td>\n",
       "    </tr>\n",
       "  </tbody>\n",
       "</table>\n",
       "</div>"
      ],
      "text/plain": [
       "    Продолжительность эксплуатации  Количество ремонтов  \\\n",
       "4                              2.0                  5.0   \n",
       "34                            17.0                 20.0   \n",
       "48                             5.0                  6.0   \n",
       "41                             4.0                  9.0   \n",
       "0                              9.0                  0.0   \n",
       "10                             9.0                  0.0   \n",
       "46                            17.0                 16.0   \n",
       "36                             2.0                  2.0   \n",
       "33                             5.0                  9.0   \n",
       "19                            14.0                 15.0   \n",
       "\n",
       "    Температура окр среды  Срок эксплуатации  Внезаплные отказы  \\\n",
       "4                    27.0               24.0                0.0   \n",
       "34                   23.0               29.0                1.0   \n",
       "48                   21.0               33.0                0.0   \n",
       "41                   25.0               19.0                0.0   \n",
       "0                    18.0               34.0                0.0   \n",
       "10                   16.0               35.0                0.0   \n",
       "46                   24.0               27.0                0.0   \n",
       "36                   23.0               32.0                1.0   \n",
       "33                   26.0               30.0                1.0   \n",
       "19                   18.0               14.0                1.0   \n",
       "\n",
       "    Изделия с дефектами  Замена деталий  Смена обслуживания  \\\n",
       "4                   1.0             0.0                 1.0   \n",
       "34                  0.0             0.0                 1.0   \n",
       "48                  1.0             0.0                 0.0   \n",
       "41                  0.0             1.0                 1.0   \n",
       "0                   1.0             1.0                 0.0   \n",
       "10                  1.0             1.0                 0.0   \n",
       "46                  0.0             0.0                 0.0   \n",
       "36                  0.0             1.0                 1.0   \n",
       "33                  1.0             1.0                 1.0   \n",
       "19                  1.0             0.0                 1.0   \n",
       "\n",
       "    Влажность окр среды  Страна производитель  \n",
       "4                  65.0                   1.0  \n",
       "34                 38.0                   3.0  \n",
       "48                 84.0                   2.0  \n",
       "41                 24.0                   3.0  \n",
       "0                  87.0                   1.0  \n",
       "10                 41.0                   1.0  \n",
       "46                 20.0                   1.0  \n",
       "36                 84.0                   2.0  \n",
       "33                 58.0                   3.0  \n",
       "19                 58.0                   2.0  "
      ]
     },
     "execution_count": 69,
     "metadata": {},
     "output_type": "execute_result"
    }
   ],
   "source": [
    "X.sample(10)# результат, подготовленные данные"
   ]
  },
  {
   "cell_type": "code",
   "execution_count": 70,
   "metadata": {},
   "outputs": [],
   "source": [
    "# Y будет равен нулю если отзывов 10 и меньше, и единице если больше 10\n",
    "Y=df['Количество ремонтов'].apply(lambda x : 1 if x>10 else 0).values"
   ]
  },
  {
   "cell_type": "code",
   "execution_count": 71,
   "metadata": {},
   "outputs": [],
   "source": [
    "#разделим набор на тренировочный и тестовый\n",
    "X_train,X_test,y_train,y_test=train_test_split(X,Y,test_size=0.2,random_state=42)"
   ]
  },
  {
   "cell_type": "code",
   "execution_count": 72,
   "metadata": {},
   "outputs": [
    {
     "data": {
      "text/plain": [
       "RandomForestClassifier()"
      ]
     },
     "execution_count": 72,
     "metadata": {},
     "output_type": "execute_result"
    }
   ],
   "source": [
    "# создаем и тренируем модель, отдельно можно провести подбор параметров для повышения точности\n",
    "model=RandomForestClassifier(n_estimators=100)\n",
    "model.fit(X_train,y_train)"
   ]
  },
  {
   "cell_type": "code",
   "execution_count": 73,
   "metadata": {},
   "outputs": [
    {
     "name": "stdout",
     "output_type": "stream",
     "text": [
      "Значимость признака: \n"
     ]
    },
    {
     "data": {
      "text/plain": [
       "[[0.6377, 'Количество ремонтов'],\n",
       " [0.0747, 'Влажность окр среды'],\n",
       " [0.0711, 'Продолжительность эксплуатации'],\n",
       " [0.0655, 'Срок эксплуатации'],\n",
       " [0.0642, 'Температура окр среды'],\n",
       " [0.025, 'Страна производитель'],\n",
       " [0.0236, 'Внезаплные отказы'],\n",
       " [0.015, 'Замена деталий'],\n",
       " [0.0133, 'Изделия с дефектами'],\n",
       " [0.0097, 'Смена обслуживания']]"
      ]
     },
     "execution_count": 73,
     "metadata": {},
     "output_type": "execute_result"
    }
   ],
   "source": [
    "importances=model.feature_importances_\n",
    "indices=np.argsort(importances)[::-1]\n",
    "\n",
    "ar_f=[]\n",
    "for f,idx in enumerate(indices):\n",
    "    ar_f.append([round(importances[idx],4),col[idx]])\n",
    "print('Значимость признака: ')\n",
    "ar_f.sort(reverse=True)\n",
    "ar_f"
   ]
  },
  {
   "cell_type": "code",
   "execution_count": 74,
   "metadata": {},
   "outputs": [
    {
     "data": {
      "text/plain": [
       "(-1.0, 10.0)"
      ]
     },
     "execution_count": 74,
     "metadata": {},
     "output_type": "execute_result"
    },
    {
     "data": {
      "image/png": "[encoded data removed]",
      "text/plain": [
       "<Figure size 576x576 with 1 Axes>"
      ]
     },
     "metadata": {
      "needs_background": "light"
     },
     "output_type": "display_data"
    }
   ],
   "source": [
    "#столбчатая диаграмма\n",
    "d_first=len(col)\n",
    "plt.figure(figsize=(8,8))\n",
    "plt.title('Значимость признака')\n",
    "plt.bar(range(d_first),importances[indices[:d_first]],align='center')\n",
    "plt.xticks(range(d_first),np.array(col)[indices[:d_first]],rotation=90)\n",
    "plt.xlim([-1,d_first])"
   ]
  },
  {
   "cell_type": "code",
   "execution_count": 76,
   "metadata": {},
   "outputs": [
    {
     "data": {
      "text/plain": [
       "array([0, 0, 0, 1, 0, 0, 1, 0, 0, 1], dtype=int64)"
      ]
     },
     "execution_count": 76,
     "metadata": {},
     "output_type": "execute_result"
    }
   ],
   "source": [
    "model.predict(X_test)\n",
    "# как выглядит результат предсказания для тестовой выборки"
   ]
  },
  {
   "cell_type": "code",
   "execution_count": 77,
   "metadata": {},
   "outputs": [
    {
     "data": {
      "text/plain": [
       "array([0, 0, 0, 1, 0, 0, 1, 1, 0, 1], dtype=int64)"
      ]
     },
     "execution_count": 77,
     "metadata": {},
     "output_type": "execute_result"
    }
   ],
   "source": [
    "y_test\n",
    "# как выглядядт результаты тестового набора"
   ]
  },
  {
   "cell_type": "code",
   "execution_count": 79,
   "metadata": {},
   "outputs": [
    {
     "data": {
      "text/plain": [
       "0.5238095238095238"
      ]
     },
     "execution_count": 79,
     "metadata": {},
     "output_type": "execute_result"
    }
   ],
   "source": [
    "# метрика r2\n",
    "r2_score(model.predict(X_test),y_test)"
   ]
  },
  {
   "cell_type": "code",
   "execution_count": 80,
   "metadata": {},
   "outputs": [
    {
     "name": "stdout",
     "output_type": "stream",
     "text": [
      "Accuracy: 0.9\n"
     ]
    }
   ],
   "source": [
    "# метрика, насколько точно мы предсказываем правильные значения как для 0, так и 1\n",
    "from sklearn import metrics\n",
    "print('Accuracy:',metrics.accuracy_score(y_test,model.predict(X_test)))"
   ]
  },
  {
   "cell_type": "code",
   "execution_count": 81,
   "metadata": {},
   "outputs": [
    {
     "data": {
      "text/plain": [
       "array([[6, 0],\n",
       "       [1, 3]], dtype=int64)"
      ]
     },
     "execution_count": 81,
     "metadata": {},
     "output_type": "execute_result"
    }
   ],
   "source": [
    "# матрица количества правильно и ошибочно угаданных классов\n",
    "from sklearn.metrics import confusion_matrix\n",
    "confusion_matrix(y_test,model.predict(X_test))"
   ]
  },
  {
   "cell_type": "code",
   "execution_count": null,
   "metadata": {},
   "outputs": [],
   "source": []
  }
 ],
 "metadata": {
  "kernelspec": {
   "display_name": "Python 3",
   "language": "python",
   "name": "python3"
  },
  "language_info": {
   "codemirror_mode": {
    "name": "ipython",
    "version": 3
   },
   "file_extension": ".py",
   "mimetype": "text/x-python",
   "name": "python",
   "nbconvert_exporter": "python",
   "pygments_lexer": "ipython3",
   "version": "3.9.0"
  }
 },
 "nbformat": 4,
 "nbformat_minor": 4
}
